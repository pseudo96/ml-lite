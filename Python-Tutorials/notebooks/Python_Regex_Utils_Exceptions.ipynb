{
 "cells": [
  {
   "cell_type": "markdown",
   "metadata": {
    "colab_type": "text",
    "id": "p37M_WKGPrqw"
   },
   "source": [
    "\n",
    "# Python Regular Expressions\n",
    "\n",
    "Regular expressions are a powerful language for matching text patterns. This notebook gives a basic introduction to regular expressions and shows how regular expressions work in Python. \n",
    "\n",
    "The Python \"re\" module provides regular expression support.\n",
    "\n",
    "\n",
    "In Python a regular expression search is typically written as:\n",
    "\n",
    " `match = re.search(pat, str)`\n",
    " \n",
    "\n",
    "* The `re.search()` method takes a regular expression pattern and a string and searches for that pattern within the string. \n",
    "* If the search is successful, search() returns a match object or None otherwise. \n",
    "\n",
    "Therefore, the search is usually immediately followed by an if-statement to test if the search succeeded, as shown in the following example which searches for the pattern 'word:' followed by a 3 letter word (details below):"
   ]
  },
  {
   "cell_type": "code",
   "execution_count": 1,
   "metadata": {
    "colab": {
     "base_uri": "https://localhost:8080/",
     "height": 34
    },
    "colab_type": "code",
    "id": "T70t4146QVbS",
    "outputId": "e8336fe1-4fe5-410d-87cf-4626f0430db2"
   },
   "outputs": [
    {
     "name": "stdout",
     "output_type": "stream",
     "text": [
      "found word:cat\n"
     ]
    }
   ],
   "source": [
    "import re # importing re module\n",
    "str = 'an example word:cat!!'\n",
    "match = re.search(r'word:\\w\\w\\w', str)\n",
    "# If-statement after search() tests if it succeeded\n",
    "if match:\n",
    "  print ('found', match.group()) ## 'found word:cat'\n",
    "else:\n",
    "  print ('did not find')"
   ]
  },
  {
   "cell_type": "markdown",
   "metadata": {
    "colab_type": "text",
    "id": "UQ2QBHg_RgYY"
   },
   "source": [
    "The code match = re.search(pat, str) stores the search result in a variable named \"match\". Then the if-statement tests the match -- if true the search succeeded and match.group() is the matching text (e.g. 'word:cat'). Otherwise if the match is false (None to be more specific), then the search did not succeed, and there is no matching text.\n",
    "\n",
    "\n",
    "The 'r' at the start of the pattern string designates a python \"raw\" string which passes through backslashes without change which is very handy for regular expressions."
   ]
  },
  {
   "cell_type": "markdown",
   "metadata": {
    "colab_type": "text",
    "id": "qKvx3DTJRkhf"
   },
   "source": [
    "## Basic Examples\n",
    "\n",
    "The basic rules of regular expression search for a pattern within a string are:\n",
    "\n",
    "* The search proceeds through the string from start to end, stopping at the first match found\n",
    "* All of the pattern must be matched, but not all of the string\n",
    "* If `match = re.search(pat, str)` is successful, match is not None and in particular match.group() is the matching text\n",
    "\n",
    "\n",
    "\n"
   ]
  },
  {
   "cell_type": "code",
   "execution_count": 0,
   "metadata": {
    "colab": {},
    "colab_type": "code",
    "collapsed": true,
    "id": "egeXoKIZX6xg"
   },
   "outputs": [],
   "source": [
    "## Search for pattern 'iii' in string 'piiig'.\n",
    "## All of the pattern must match, but it may appear anywhere.\n",
    "## On success, match.group() is matched text.\n",
    "match = re.search(r'iii', 'piiig')  ## found, match.group() == \"iii\"\n",
    "match = re.search(r'igs', 'piiig')  ## not found, match == None\n",
    "\n",
    "## . = any char but \\n\n",
    "match = re.search(r'..g', 'piiig')  ## found, match.group() == \"iig\"\n",
    "\n",
    "## \\d = digit char, \\w = word char\n",
    "match = re.search(r'\\d\\d\\d', 'p123g')  ## found, match.group() == \"123\"\n",
    "match = re.search(r'\\w\\w\\w', '@@abcd!!')  ## found, match.group() == \"abc\""
   ]
  },
  {
   "cell_type": "markdown",
   "metadata": {
    "colab_type": "text",
    "id": "X0hVkZ4mToVH"
   },
   "source": [
    "## Repetition\n",
    "\n",
    "Things get more interesting when you use + and * to specify repetition in the pattern\n",
    "\n",
    "* \\+ -- 1 or more occurrences of the pattern to its left, e.g. 'i+' = one or more i's\n",
    "* \\* -- 0 or more occurrences of the pattern to its left\n",
    "* ? -- match 0 or 1 occurrences of the pattern to its left\n",
    "\n",
    "### Leftmost & Largest\n",
    "First the search finds the leftmost match for the pattern, and second it tries to use up as much of the string as possible -- i.e. + and * go as far as possible (the + and * are said to be \"greedy\").\n",
    "\n",
    "\n"
   ]
  },
  {
   "cell_type": "code",
   "execution_count": 0,
   "metadata": {
    "colab": {},
    "colab_type": "code",
    "collapsed": true,
    "id": "HkyR5CxhSmb8"
   },
   "outputs": [],
   "source": [
    "## i+ = one or more i's, as many as possible.\n",
    "match = re.search(r'pi+', 'piiig')  ## found, match.group() == \"piii\"\n",
    "\n",
    "## Finds the first/leftmost solution, and within it drives the +\n",
    "## as far as possible (aka 'leftmost and largest').\n",
    "## In this example, note that it does not get to the second set of i's.\n",
    "match = re.search(r'i+', 'piigiiii')  ## found, match.group() == \"ii\"\n",
    "\n",
    "## \\s* = zero or more whitespace chars\n",
    "## Here look for 3 digits, possibly separated by whitespace.\n",
    "match = re.search(r'\\d\\s*\\d\\s*\\d', 'xx1 2   3xx')  ## found, match.group() == \"1 2   3\"\n",
    "match = re.search(r'\\d\\s*\\d\\s*\\d', 'xx12  3xx')  ## found, match.group() == \"12  3\"\n",
    "match = re.search(r'\\d\\s*\\d\\s*\\d', 'xx123xx')  ## found, match.group() == \"123\"\n",
    "\n",
    "## ^ = matches the start of string, so this fails:\n",
    "match = re.search(r'^b\\w+', 'foobar')  ## not found, match == None\n",
    "## but without the ^ it succeeds:\n",
    "match = re.search(r'b\\w+', 'foobar')  ## found, match.group() == \"bar\"\n"
   ]
  },
  {
   "cell_type": "markdown",
   "metadata": {
    "colab_type": "text",
    "id": "PtthLKEjUWTN"
   },
   "source": [
    "## Emails Example\n",
    "\n",
    "Suppose you want to find the email address inside the string 'xyz alice-b@google.com purple monkey'. We'll use this as a running example to demonstrate more regular expression features. Here's an attempt using the pattern r'\\w+@\\w+':"
   ]
  },
  {
   "cell_type": "code",
   "execution_count": 3,
   "metadata": {
    "colab": {
     "base_uri": "https://localhost:8080/",
     "height": 34
    },
    "colab_type": "code",
    "id": "N0sPY25gUVgs",
    "outputId": "abd89b9c-0988-49c9-fc2e-142f39aac7af"
   },
   "outputs": [
    {
     "name": "stdout",
     "output_type": "stream",
     "text": [
      "b@google\n"
     ]
    }
   ],
   "source": [
    "str = 'purple alice-b@google.com monkey dishwasher'\n",
    "match = re.search(r'\\w+@\\w+', str)\n",
    "if match:\n",
    "  print (match.group())  ## 'b@google'"
   ]
  },
  {
   "cell_type": "markdown",
   "metadata": {
    "colab_type": "text",
    "id": "ZLsosU9AUp9v"
   },
   "source": [
    "The search does not get the whole email address in this case because the \\w does not match the '-' or '.' in the address. We'll fix this using the regular expression features below.\n",
    "\n",
    "## Square Brackets\n",
    "\n",
    "Square brackets can be used to indicate a set of chars, so [abc] matches 'a' or 'b' or 'c'. The codes \\w, \\s etc. work inside square brackets too with the one exception that dot (.) just means a literal dot. For the emails problem, the square brackets are an easy way to add '.' and '-' to the set of chars which can appear around the @ with the pattern r'[\\w.-]+@[\\w.-]+' to get the whole email address:"
   ]
  },
  {
   "cell_type": "code",
   "execution_count": 4,
   "metadata": {
    "colab": {
     "base_uri": "https://localhost:8080/",
     "height": 34
    },
    "colab_type": "code",
    "id": "kJpiINs5VHI0",
    "outputId": "767414a1-cf18-4467-b735-32b5c32f2c5e"
   },
   "outputs": [
    {
     "name": "stdout",
     "output_type": "stream",
     "text": [
      "alice-b@google.com\n"
     ]
    }
   ],
   "source": [
    "match = re.search(r'[\\w.-]+@[\\w.-]+', str)\n",
    "if match:\n",
    "  print (match.group())  ## 'alice-b@google.com'"
   ]
  },
  {
   "cell_type": "markdown",
   "metadata": {
    "colab_type": "text",
    "id": "07oLdXzzVKUv"
   },
   "source": [
    "(More square-bracket features) You can also use a dash to indicate a range, so [a-z] matches all lowercase letters. To use a dash without indicating a range, put the dash last, e.g. [abc-]. An up-hat (^) at the start of a square-bracket set inverts it, so [^ab] means any char except 'a' or 'b'.\n",
    "\n",
    "## Group Extraction\n",
    "\n",
    "The \"group\" feature of a regular expression allows you to pick out parts of the matching text. Suppose for the emails problem that we want to extract the username and host separately. \n",
    "\n",
    "To do this, add parenthesis ( ) around the username and host in the pattern, like this: `r'([\\w.-]+)@([\\w.-]+)'`. \n",
    "\n",
    "In this case, the parenthesis do not change what the pattern will match, instead they establish logical \"groups\" inside of the match text. On a successful search, match.group(1) is the match text corresponding to the 1st left parenthesis, and match.group(2) is the text corresponding to the 2nd left parenthesis. The plain match.group() is still the whole match text as usual."
   ]
  },
  {
   "cell_type": "code",
   "execution_count": 5,
   "metadata": {
    "colab": {
     "base_uri": "https://localhost:8080/",
     "height": 68
    },
    "colab_type": "code",
    "id": "ZYgTM9B3Veq1",
    "outputId": "c3b478b7-5be1-4971-ad70-a830ba1ce1fc"
   },
   "outputs": [
    {
     "name": "stdout",
     "output_type": "stream",
     "text": [
      "alice-b@google.com\n",
      "alice-b\n",
      "google.com\n"
     ]
    }
   ],
   "source": [
    "str = 'purple alice-b@google.com monkey dishwasher'\n",
    "match = re.search(r'([\\w.-]+)@([\\w.-]+)', str)\n",
    "if match:\n",
    "  print (match.group())   ## 'alice-b@google.com' (the whole match)\n",
    "  print (match.group(1))  ## 'alice-b' (the username, group 1)\n",
    "  print (match.group(2))  ## 'google.com' (the host, group 2)"
   ]
  },
  {
   "cell_type": "markdown",
   "metadata": {
    "colab_type": "text",
    "id": "WJc3iLRPVisJ"
   },
   "source": [
    "A common workflow with regular expressions is that you write a pattern for the thing you are looking for, adding parenthesis groups to extract the parts you want.\n",
    "\n",
    "## findall\n",
    "\n",
    "`findall()` is probably the single most powerful function in the re module. Above we used `re.search()` to find the first match for a pattern. findall() finds *all* the matches and returns them as a list of strings, with each string representing one match."
   ]
  },
  {
   "cell_type": "code",
   "execution_count": 6,
   "metadata": {
    "colab": {
     "base_uri": "https://localhost:8080/",
     "height": 51
    },
    "colab_type": "code",
    "id": "R0oXYP3_VzBJ",
    "outputId": "419fa98a-c124-4ec7-9430-370f9f40f920"
   },
   "outputs": [
    {
     "name": "stdout",
     "output_type": "stream",
     "text": [
      "alice@google.com\n",
      "bob@abc.com\n"
     ]
    }
   ],
   "source": [
    "## Suppose we have a text with many email addresses\n",
    "str = 'purple alice@google.com, blah monkey bob@abc.com blah dishwasher'\n",
    "\n",
    "## Here re.findall() returns a list of all the found email strings\n",
    "emails = re.findall(r'[\\w\\.-]+@[\\w\\.-]+', str) ## ['alice@google.com', 'bob@abc.com']\n",
    "for email in emails:\n",
    "  # do something with each found email string\n",
    "  print (email)"
   ]
  },
  {
   "cell_type": "markdown",
   "metadata": {
    "colab_type": "text",
    "id": "VcrhMKQZV6JX"
   },
   "source": [
    "## findall With Files\n",
    "\n",
    "For files, you may be in the habit of writing a loop to iterate over the lines of the file, and you could then call findall() on each line. Instead, let findall() do the iteration for you -- much better! Just feed the whole file text into findall() and let it return a list of all the matches in a single step (recall that f.read() returns the whole text of a file in a single string):"
   ]
  },
  {
   "cell_type": "code",
   "execution_count": 0,
   "metadata": {
    "colab": {},
    "colab_type": "code",
    "collapsed": true,
    "id": "gL7W6i7GV911"
   },
   "outputs": [],
   "source": [
    "# Open file\n",
    "f = open('test.txt', 'r')\n",
    "# Feed the file text into findall(); it returns a list of all the found strings\n",
    "strings = re.findall(r'some pattern', f.read())"
   ]
  },
  {
   "cell_type": "markdown",
   "metadata": {
    "colab_type": "text",
    "id": "ua6DbFS_WMOE"
   },
   "source": [
    "## findall and Groups\n",
    "\n",
    "The parenthesis ( ) group mechanism can be combined with findall(). \n",
    "* If the pattern includes 2 or more parenthesis groups, then instead of returning a list of strings, findall() returns a list of *tuples*. \n",
    "* Each tuple represents one match of the pattern, and inside the tuple is the group(1), group(2) .. data. \n",
    "* So if 2 parenthesis groups are added to the email pattern, then findall() returns a list of tuples, each length 2 containing the username and host, e.g. ('alice', 'google.com').\n",
    "* Once you have the list of tuples, you can loop over it to do some computation for each tuple\n",
    "*  If the pattern includes no parenthesis, then findall() returns a list of found strings as in earlier examples\n",
    "* If the pattern includes a single set of parenthesis, then findall() returns a list of strings corresponding to that single group\n",
    "\n"
   ]
  },
  {
   "cell_type": "code",
   "execution_count": 8,
   "metadata": {
    "colab": {
     "base_uri": "https://localhost:8080/",
     "height": 102
    },
    "colab_type": "code",
    "id": "ekh_AUGbWhYJ",
    "outputId": "e5a86eb9-7d94-4b6c-8e0a-9f6e22d8393e"
   },
   "outputs": [
    {
     "name": "stdout",
     "output_type": "stream",
     "text": [
      "[('alice', 'google.com'), ('bob', 'abc.com')]\n",
      "alice\n",
      "google.com\n",
      "bob\n",
      "abc.com\n"
     ]
    }
   ],
   "source": [
    "str = 'purple alice@google.com, blah monkey bob@abc.com blah dishwasher'\n",
    "tuples = re.findall(r'([\\w\\.-]+)@([\\w\\.-]+)', str)\n",
    "print (tuples)  ## [('alice', 'google.com'), ('bob', 'abc.com')]\n",
    "for tuple in tuples:\n",
    "  print (tuple[0])  ## username\n",
    "  print (tuple[1])  ## host"
   ]
  },
  {
   "cell_type": "markdown",
   "metadata": {
    "colab_type": "text",
    "id": "EOzSaH6KcYH6"
   },
   "source": [
    "## split with regex\n",
    "\n",
    "The string method split() is the right tool in many cases, but what, if you want e.g. to get the bare words of a text, i.e. without any special characters and whitespaces. If we want this, we have to use the split function from the re module. We illustrate this method with a short text from the beginning of Metamorphoses by Ovid:"
   ]
  },
  {
   "cell_type": "code",
   "execution_count": 11,
   "metadata": {
    "colab": {
     "base_uri": "https://localhost:8080/",
     "height": 34
    },
    "colab_type": "code",
    "id": "vET6iqpUcmNn",
    "outputId": "2548e4a2-ba2f-434b-92ce-4ccf66960561"
   },
   "outputs": [
    {
     "data": {
      "text/plain": [
       "['OF', 'bodies', 'chang', 'd', 'to', 'various', 'forms']"
      ]
     },
     "execution_count": 11,
     "metadata": {
      "tags": []
     },
     "output_type": "execute_result"
    }
   ],
   "source": [
    "metamorphoses = \"OF bodies chang'd to various forms\"\n",
    "re.split(\"\\W+\",metamorphoses) ## ['OF', 'bodies', 'chang', 'd', 'to', 'various', 'forms']"
   ]
  },
  {
   "cell_type": "markdown",
   "metadata": {
    "colab_type": "text",
    "id": "I-JIThFLc8wk"
   },
   "source": [
    "The following example is a good case, where the regular expression is really superior to the string split. Let's assume that we have data lines with surnames, first names and professions of names. We want to clear the data line of the superfluous and redundant text descriptions, i.e. \"surname: \", \"prename: \" and so on, so that we have solely the surname in the first column, the first name in the second column and the profession in the third column: "
   ]
  },
  {
   "cell_type": "code",
   "execution_count": 17,
   "metadata": {
    "colab": {
     "base_uri": "https://localhost:8080/",
     "height": 51
    },
    "colab_type": "code",
    "id": "ctggoA4fdIVW",
    "outputId": "f9f98db7-6878-401b-a840-7d1c2931dc02"
   },
   "outputs": [
    {
     "name": "stdout",
     "output_type": "stream",
     "text": [
      "['', 'Obama', 'Barack', 'president']\n",
      "['', 'Merkel', 'Angela', 'chancellor']\n"
     ]
    }
   ],
   "source": [
    "lines = [\"surname:Obama, prename:Barack, profession:president\", \"surname:Merkel, prename:Angela, profession:chancellor\"]\n",
    "for line in lines:\n",
    "  print(re.split(\",* *\\w*:\", line))  ## ['', 'Obama', 'Barack', 'president'] ['', 'Merkel', 'Angela', 'chancellor']"
   ]
  },
  {
   "cell_type": "markdown",
   "metadata": {
    "colab_type": "text",
    "id": "ncwy8eq3dmrB"
   },
   "source": [
    "We can easily improve the script by using a slice operator, so that we don't have the empty string as the first element of our result lists: "
   ]
  },
  {
   "cell_type": "code",
   "execution_count": 18,
   "metadata": {
    "colab": {
     "base_uri": "https://localhost:8080/",
     "height": 51
    },
    "colab_type": "code",
    "id": "5PT91xo5d6kv",
    "outputId": "5d2c7f80-931a-496a-b7e2-ea1607d163a7"
   },
   "outputs": [
    {
     "name": "stdout",
     "output_type": "stream",
     "text": [
      "['Obama', 'Barack', 'president']\n",
      "['Merkel', 'Angela', 'chancellor']\n"
     ]
    }
   ],
   "source": [
    "lines = [\"surname:Obama, prename:Barack, profession:president\", \"surname:Merkel, prename:Angela, profession:chancellor\"]\n",
    "for line in lines:\n",
    "  print(re.split(\",* *\\w*:\", line)[1:])  ## ['Obama', 'Barack', 'president'] ['Merkel', 'Angela', 'chancellor']"
   ]
  },
  {
   "cell_type": "markdown",
   "metadata": {
    "colab_type": "text",
    "id": "UvbbK3SWW3vN"
   },
   "source": [
    "## Substitution\n",
    "\n",
    "The re.sub(pat, replacement, str) function searches for all the instances of pattern in the given string, and replaces them. The replacement string can include '\\1', '\\2' which refer to the text from group(1), group(2), and so on from the original matching text.\n",
    "\n",
    "Here's an example which searches for all the email addresses, and changes them to keep the user (\\1) but have yo-yo-dyne.com as the host."
   ]
  },
  {
   "cell_type": "code",
   "execution_count": 9,
   "metadata": {
    "colab": {
     "base_uri": "https://localhost:8080/",
     "height": 34
    },
    "colab_type": "code",
    "id": "Q7m-XdWkXjj4",
    "outputId": "be13f705-2aea-4ab1-898f-9fe9dfe7ac56"
   },
   "outputs": [
    {
     "name": "stdout",
     "output_type": "stream",
     "text": [
      "purple alice@yo-yo-dyne.com, blah monkey bob@yo-yo-dyne.com blah dishwasher\n"
     ]
    }
   ],
   "source": [
    "str = 'purple alice@google.com, blah monkey bob@abc.com blah dishwasher'\n",
    "## re.sub(pat, replacement, str) -- returns new string with all replacements,\n",
    "## \\1 is group(1), \\2 group(2) in the replacement\n",
    "print (re.sub(r'([\\w\\.-]+)@([\\w\\.-]+)', r'\\1@yo-yo-dyne.com', str))\n",
    "## purple alice@yo-yo-dyne.com, blah monkey bob@yo-yo-dyne.com blah dishwasher"
   ]
  },
  {
   "cell_type": "markdown",
   "metadata": {
    "colab_type": "text",
    "id": "bgWeEdE_e9QL"
   },
   "source": [
    "## Options\n",
    "\n",
    "The re functions take options to modify the behavior of the pattern match. The option flag is added as an extra argument to the search() or findall() etc., e.g. `re.search(pat, str, re.IGNORECASE)`.\n",
    "\n",
    "* IGNORECASE -- ignore upper/lowercase differences for matching, so 'a' matches both 'a' and 'A'.\n",
    "* DOTALL -- allow dot (.) to match newline -- normally it matches anything but newline. This can trip you up -- you think .`*` matches everything, but by default it does not go past the end of a line. Note that \\s (whitespace) includes newlines, so if you want to match a run of whitespace that may include a newline, you can just use \\s*\n",
    "* MULTILINE -- Within a string made of many lines, allow ^ and  `$` to match the start and end of each line. Normally `^/$` would just match the start and end of the whole string.\n",
    "\n",
    "\n",
    "---\n",
    "\n"
   ]
  },
  {
   "cell_type": "markdown",
   "metadata": {
    "colab_type": "text",
    "id": "SscwhVHpXoFO"
   },
   "source": [
    "# Assignment 1 - Regex \n",
    "\n",
    "* The files for this assignment are in the \"babynames\" directory [here](https://github.com/screel-labs/ml-lite/tree/master/Python-Tutorials/exercises).\n",
    "* Edit the code in babynames.py. \n",
    "* The files baby1990.html baby1992.html ... contain raw html, similar to what you get visiting the above social security site. Take a look at the html and think about how you might scrape the data out of it.\n",
    "\n",
    "\n",
    "### Part A\n",
    "\n",
    "* In the babynames.py file, implement the extract_names(filename) function which takes the filename of a baby1990.html file and returns the data from the file as a single list -- the year string at the start of the list followed by the name-rank strings in alphabetical order. ['2006', 'Aaliyah 91', 'Abagail 895', 'Aaron 57', ...]. \n",
    "\n",
    "* Modify main() so it calls your extract_names() function and prints what it returns (main already has the code for the command line argument parsing).\n",
    "\n",
    "* Rather than treat the boy and girl names separately, we'll just lump them all together. In some years, a name appears more than once in the html, but we'll just use one number per name. (*Optional: make the algorithm smart about this case and choose whichever number is smaller.*)\n",
    "\n",
    "\n",
    "Here are some suggested milestones:\n",
    "\n",
    "* Extract all the text from the file and print it\n",
    "* Find and extract the year and print it\n",
    "* Extract the names and rank numbers and print them\n",
    "* Get the names data into a dict and print it\n",
    "* Build the [year, 'name rank', ... ] list and print it\n",
    "* Fix main() to use the ExtractNames list\n",
    "* The summary text should look like this for each file:\n",
    "\n",
    "> 2006\n",
    "\n",
    "> Aaliyah 91\n",
    "\n",
    "> Aaron 57\n",
    "\n",
    "> Abagail 895\n",
    "\n",
    "> Abbey 695\n",
    "\n",
    "> Abbie 650\n",
    "\n",
    "> ...\n",
    "---\n",
    "\n",
    "### Part B\n",
    "\n",
    "Suppose instead of printing the text to standard out, we want to write files containing the text. If the flag --summaryfile is present, do the following: for each input file 'foo.html', instead of printing to standard output, write a new file 'foo.html.summary' that contains the summary text for that file.\n",
    "\n",
    "Once the --summaryfile feature is working, run the program on all the files using \\* like this: \"./babynames.py --summaryfile baby\\*.html\". This generates all the summaries in one step. (The standard behavior of the shell is that it expands the \"baby\\*.html\" pattern into the list of matching filenames, and then the shell runs babynames.py, passing in all those filenames in the sys.argv list.)\n",
    "\n",
    "\n",
    "\n",
    "---\n",
    "\n",
    "\n",
    "\n",
    "**Few Tips:** \n",
    "* Build the program as a series of small milestones, getting each step to run/print something before trying the next step. This is the pattern used by experienced programmers -- build a series of incremental milestones, each with some output to check, rather than building the whole program in one huge step.\n",
    "\n",
    "* Printing the data you have at the end of one milestone helps you think about how to re-structure that data for the next milestone. Python is well suited to this style of incremental development. For example, first get it to the point where it extracts and prints the year and calls sys.exit(0). \n",
    "\n",
    "\n",
    "---\n",
    "\n"
   ]
  },
  {
   "cell_type": "markdown",
   "metadata": {
    "colab_type": "text",
    "id": "Mgx1Ch-5ai5V"
   },
   "source": [
    "# Python Utilities\n",
    "\n",
    "In this section, we look at a few of Python's many standard utility modules to solve common problems.\n",
    "\n",
    "## File System -- os, os.path, shutil\n",
    "\n",
    "The *os* and *os.path* modules include many functions to interact with the file system. The *shutil* module can copy files.\n",
    "\n",
    "* [os module docs](https://docs.python.org/3/library/os.html)\n",
    "* filenames = os.listdir(dir) -- list of filenames in that directory path (not including . and ..). The filenames are just the names in the directory, not their absolute paths.\n",
    "* os.path.join(dir, filename) -- given a filename from the above list, use this to put the dir and filename together to make a path\n",
    "* os.path.abspath(path) -- given a path, return an absolute form, e.g. /home/nick/foo/bar.html\n",
    "* os.path.dirname(path), os.path.basename(path) -- given dir/foo/bar.html, return the dirname \"dir/foo\" and basename \"bar.html\"\n",
    "* os.path.exists(path) -- true if it exists\n",
    "* os.mkdir(dir_path) -- makes one dir, os.makedirs(dir_path) makes all the needed dirs in this path\n",
    "* os.getcwd() -- gets your current working directory\n",
    "* os.rmdir(dir_path) -- removes a directory\n",
    "* shutil.copy(source-path, dest-path) -- copy a file (dest path directories should exist)"
   ]
  },
  {
   "cell_type": "code",
   "execution_count": 0,
   "metadata": {
    "colab": {},
    "colab_type": "code",
    "collapsed": true,
    "id": "_87AG66AbEzi"
   },
   "outputs": [],
   "source": [
    "import os\n",
    "## Example pulls filenames from a dir, prints their relative and absolute paths\n",
    "def printdir(dir):\n",
    "  filenames = os.listdir(dir)\n",
    "  for filename in filenames:\n",
    "    print (filename)  ## foo.txt\n",
    "    print (os.path.join(dir, filename)) ## dir/foo.txt (relative to current dir)\n",
    "    print (os.path.abspath(os.path.join(dir, filename))) ## /home/nick/dir/foo.txt"
   ]
  },
  {
   "cell_type": "markdown",
   "metadata": {
    "colab_type": "text",
    "id": "PDn0v2YNotrD"
   },
   "source": [
    "With the [shutil module](https://docs.python.org/3/library/shutil.html), you can automate copying both the files and folders. This module follows an optimized design. It saves you from doing the time-intensive operations like the opening, reading, writing, and closing of a file when there is no real processing need. It is full of utility functions and methods which can let you do tasks like copying, moving or removing files and folders\n",
    "\n",
    "The copy() method functions like the “cp” command in Unix. It means if the target is a folder, then it’ll create a new file inside it with the same name (basename) as the source file. Also, this method will sync the permissions of the target file with the source after copying its content. It too throws the SameFileError if you are copying the same file.\n",
    "\n",
    "`copy(source_file, [destination_file or dest_dir])`"
   ]
  },
  {
   "cell_type": "code",
   "execution_count": 22,
   "metadata": {
    "colab": {
     "base_uri": "https://localhost:8080/",
     "height": 34
    },
    "colab_type": "code",
    "id": "p29HhB_YoocG",
    "outputId": "eac4d7fa-92fd-478b-9c4c-7017acc2d2b2"
   },
   "outputs": [
    {
     "name": "stdout",
     "output_type": "stream",
     "text": [
      "Unable to copy file. [Errno 2] No such file or directory: 'current/test/test.py'\n"
     ]
    }
   ],
   "source": [
    "# copy file example using shutil.copy()\n",
    "import os\n",
    "import shutil\n",
    "\n",
    "source = 'current/test/test.py' ## path to source file\n",
    "target = '/prod/new'  ## path to target file\n",
    "\n",
    "assert not os.path.isabs(source)\n",
    "target = os.path.join(target, os.path.dirname(source))\n",
    "\n",
    "# create the folders if not already exists\n",
    "os.makedirs(target)\n",
    "\n",
    "# adding exception handling\n",
    "try:\n",
    "    shutil.copy(source, target)\n",
    "except IOError as e:\n",
    "    print(\"Unable to copy file. %s\" % e)\n",
    "except:\n",
    "    print(\"Unexpected error:\", sys.exc_info())"
   ]
  },
  {
   "cell_type": "markdown",
   "metadata": {
    "colab_type": "text",
    "id": "d3b_TXxqrFO4"
   },
   "source": [
    "## Running External Processes -- subprocess\n",
    "\n",
    "The [subprocess module](https://docs.python.org/3.7/library/subprocess.html#module-subprocess) enables you to start new applications from your Python program. How cool is that?\n",
    "\n",
    "You can start a process in Python using the Popen function call. The program below starts the unix program ‘cat’ and the second parameter is the argument. This is equivalent to ‘cat test.py’.  You can start any program with any parameter.\n"
   ]
  },
  {
   "cell_type": "code",
   "execution_count": 0,
   "metadata": {
    "colab": {},
    "colab_type": "code",
    "collapsed": true,
    "id": "Ee1GToEarYQn"
   },
   "outputs": [],
   "source": [
    "from subprocess import Popen, PIPE\n",
    " \n",
    "process = Popen(['cat', 'test.py'], stdout=PIPE, stderr=PIPE, universal_newlines=True)\n",
    "stdout, stderr = process.communicate()\n",
    "print (stdout) ## prints the contents of the file 'test.py'"
   ]
  },
  {
   "cell_type": "markdown",
   "metadata": {
    "colab_type": "text",
    "id": "MUETyI38rfbx"
   },
   "source": [
    "The `process.communicate()` call reads input and output from the process.  `stdout` is the process output. `stderr` will be written only if an error occurs.  If you want to wait for the program to finish you can call `Popen.wait()`.\n",
    "\n",
    "### Subprocess call():\n",
    "Subprocess has a method call() which can be used to start a program. The parameter is a list of which the first argument must be the program name. The full definition is:\n",
    "\n",
    "`subprocess.call(args, *, stdin=None, stdout=None, stderr=None, shell=False)`\n",
    "\n",
    "* Runs the command described by args. \n",
    "* Waits for command to complete, then return the returncode attribute.\n",
    "\n",
    "In the example below the full command would be `“ls -l”`"
   ]
  },
  {
   "cell_type": "code",
   "execution_count": 25,
   "metadata": {
    "colab": {
     "base_uri": "https://localhost:8080/",
     "height": 34
    },
    "colab_type": "code",
    "id": "NgcvEPwJr_w_",
    "outputId": "e0f847ba-27d1-459c-81bf-e85033e94145"
   },
   "outputs": [
    {
     "data": {
      "text/plain": [
       "0"
      ]
     },
     "execution_count": 25,
     "metadata": {
      "tags": []
     },
     "output_type": "execute_result"
    }
   ],
   "source": [
    "import subprocess\n",
    "subprocess.call([\"ls\", \"-l\"])  ## prints the files in current working directory"
   ]
  },
  {
   "cell_type": "markdown",
   "metadata": {
    "colab_type": "text",
    "id": "OCa-jcHTsOEK"
   },
   "source": [
    "### Save process output (stdout)\n",
    "We can get the output of a program and store it in a string directly using check_output. The method is defined as:\n",
    "\n",
    "`subprocess.check_output(args, *, stdin=None, stderr=None, shell=False, universal_newlines=False)`\n",
    " \n",
    " * Runs command with arguments and return its output as a byte string.\n"
   ]
  },
  {
   "cell_type": "code",
   "execution_count": 27,
   "metadata": {
    "colab": {
     "base_uri": "https://localhost:8080/",
     "height": 34
    },
    "colab_type": "code",
    "id": "7EnfNRahsAOk",
    "outputId": "5bf4aa1f-ea2c-4391-934b-50fd7872ed9b"
   },
   "outputs": [
    {
     "name": "stdout",
     "output_type": "stream",
     "text": [
      "b'Hello World!\\n'\n"
     ]
    }
   ],
   "source": [
    "import subprocess\n",
    " \n",
    "s = subprocess.check_output([\"echo\", \"Hello World!\"])\n",
    "print(s)  ## b'Hello World!\\n'"
   ]
  },
  {
   "cell_type": "markdown",
   "metadata": {
    "colab_type": "text",
    "id": "DBJPHHBGuxwj"
   },
   "source": [
    "# Exceptions\n",
    "\n",
    "An exception represents a run-time error that halts the normal execution at a particular line and transfers control to error handling code. This section just introduces the most basic uses of exceptions. For example a run-time error might be that a variable used in the program does not have a value (ValueError .. you've probably seen that one a few times), or a file open operation error because a file does not exist (IOError). Learn more in the [exceptions tutorial](https://docs.python.org/3/tutorial/errors.html) and see the [entire exception list](https://docs.python.org/3/library/exceptions.html).\n",
    "\n",
    "Without any error handling code (as we have done thus far), a run-time exception just halts the program with an error message. That's a good default behavior, and you've seen it many times. \n",
    "\n",
    "You can add a \"try/except\" structure to your code to handle exceptions, like this:\n",
    "\n",
    "* The try: section includes the code which might throw an exception. \n",
    "* The except: section holds the code to run if there is an exception. \n",
    "* If there is no exception, the except: section is skipped (that is, that code is for error handling only, not the \"normal\" case for the code). \n",
    "* You can get a pointer to the exception object itself with syntax \"except IOError as e: ..\" (e points to the exception object).\n",
    "\n"
   ]
  },
  {
   "cell_type": "code",
   "execution_count": 33,
   "metadata": {
    "colab": {
     "base_uri": "https://localhost:8080/",
     "height": 34
    },
    "colab_type": "code",
    "id": "bRU7I2eGsabZ",
    "outputId": "74ddd27c-596f-4be4-bf3f-14d4d239a426"
   },
   "outputs": [
    {
     "name": "stderr",
     "output_type": "stream",
     "text": [
      "problem reading:hello.py"
     ]
    }
   ],
   "source": [
    "import sys\n",
    "filename = 'hello.py'\n",
    "try:\n",
    "  ## Either of these two lines could throw an IOError, say\n",
    "  ## if the file does not exist or the read() encounters a low level error.\n",
    "  f = open(filename, 'r')\n",
    "  text = f.read()\n",
    "  f.close()\n",
    "except IOError:\n",
    "  ## Control jumps directly to here if any of the above lines throws IOError.\n",
    "  sys.stderr.write('problem reading:' + filename)\n",
    "## In any case, the code then continues with the line after the try/except\n",
    "finally:\n",
    "  ## whatever you do here gets executed always, irrespective of whether exception is thrown or not\n",
    "  print(\"hello from finally block!!\")"
   ]
  },
  {
   "cell_type": "markdown",
   "metadata": {
    "colab_type": "text",
    "id": "YH_kPbuswmsc"
   },
   "source": [
    "# Assignment 2 - File System and External Commands:\n",
    "To practice the file system and external-commands concepts, see the Copy Special Exercise\n",
    "\n",
    "This exercise is in the \"copyspecial\" directory [here](https://github.com/screel-labs/ml-lite/tree/master/Python-Tutorials/exercises). Edit the code in copyspecial.py.\n",
    "\n",
    "The copyspecial.py program takes one or more directories as its arguments. We'll say that a \"special\" file is one where the name contains the pattern \\__w__ somewhere, where the w is one or more word chars. The provided main() includes code to parse the command line arguments, but the rest is up to you. Write functions to implement the features below and modify main() to call your functions.\n",
    "\n",
    "Suggested functions for your solution:\n",
    "\n",
    "* get_special_paths(dir) -- returns a list of the absolute paths of the special files in the given directory\n",
    "* copy_to(paths, dir) given a list of paths, copies those files into the given directory\n",
    "* zip_to(paths, zippath) given a list of paths, zip those files up into the given zipfile\n",
    "\n",
    "### Part A (manipulating file paths)\n",
    "\n",
    "Gather a list of the absolute paths of the special files in all the directories. In the simplest case, just print that list (here the \".\" after the command is a single argument indicating the current directory). Print one absolute path per line.\n",
    "\n",
    "We'll assume that names are not repeated across the directories (*optional: check that assumption and error out if it's violated*).\n",
    "\n",
    "**From terminal, run: **\n",
    "\n",
    "> `>> ./copyspecial.py .`\n",
    "\n",
    "**Expected output:**\n",
    "\n",
    "> /Users/nparlante/pycourse/day2/xyz\\__hello__.txt\n",
    "\n",
    "> /Users/nparlante/pycourse/day2/zz\\__something__.jpg\n",
    "\n",
    "### Part B (file copying)\n",
    "\n",
    "If the \"--todir dir\" option is present at the start of the command line, do not print anything and instead copy the files to the given directory, creating it if necessary. Use the python module \"shutil\" for file copying.\n",
    "\n",
    "**From terminal, run: **\n",
    "\n",
    "> `>> ./copyspecial.py --todir /tmp/fooby .`\n",
    "\n",
    "> `>> ls /tmp/fooby`\n",
    "\n",
    "**Expected output:**\n",
    "\n",
    "> xyz\\__hello__.txt          \n",
    "\n",
    "> zz\\__something__.jpg\n",
    "\n",
    "### Part C (calling an external program)\n",
    "\n",
    "* If the `\"--tozip zipfile\"` option is present at the start of the command line, run this command: `zip -j zipfile <list all the files>`. This will create a zipfile containing the files. Just for fun/reassurance, also print the command line you are going to do first.\n",
    " \n",
    " **From terminal, run: **\n",
    " \n",
    "> `>> ./copyspecial.py --tozip tmp.zip .`\n",
    " \n",
    " **Expected output:**\n",
    " \n",
    "> Command I'm going to do:zip -j tmp.zip /Users/nparlante/pycourse/day2/xyz\\__hello\\__.txt  /Users/nparlante/pycourse/day2/zz\\__something__.jpg\n",
    "\n",
    "\n",
    "* If the child process exits with an error code, exit with an error code and print the command's output. Test this by trying to write a zip file to a directory that does not exist.\n",
    "\n",
    " **From terminal, run: **\n",
    " \n",
    "> `>> ./copyspecial.py --tozip /no/way.zip .`\n",
    " \n",
    " **Expected output:**\n",
    " \n",
    "> Command I'm going to do:zip -j /no/way.zip /Users/nparlante/pycourse/day2/xyz\\__hello\\__.txt\n",
    "/Users/nparlante/pycourse/day2/zz\\__something\\__.jpg\n",
    "\n",
    "> zip I/O error: No such file or directory \n",
    "\n",
    "> zip error: Could not create output file (/no/way.zip)\n",
    "\n",
    "*Windows note: Windows does not come with a program to produce standard .zip archives by default, but you can get download the free and open zip program from [www.info-zip.org](www.info-zip.org).*"
   ]
  }
 ],
 "metadata": {
  "colab": {
   "collapsed_sections": [],
   "name": "Python Regular Expressions And Utils",
   "provenance": [],
   "version": "0.3.2"
  },
  "kernelspec": {
   "display_name": "Python 3",
   "language": "python",
   "name": "python3"
  },
  "language_info": {
   "codemirror_mode": {
    "name": "ipython",
    "version": 3
   },
   "file_extension": ".py",
   "mimetype": "text/x-python",
   "name": "python",
   "nbconvert_exporter": "python",
   "pygments_lexer": "ipython3",
   "version": "3.6.1"
  }
 },
 "nbformat": 4,
 "nbformat_minor": 1
}
