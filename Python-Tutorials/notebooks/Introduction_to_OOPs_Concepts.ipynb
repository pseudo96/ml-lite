{
  "nbformat": 4,
  "nbformat_minor": 0,
  "metadata": {
    "colab": {
      "name": "Introduction to OOPs in Python.ipynb",
      "version": "0.3.2",
      "provenance": [],
      "collapsed_sections": []
    },
    "kernelspec": {
      "name": "python3",
      "display_name": "Python 3"
    }
  },
  "cells": [
    {
      "metadata": {
        "id": "uDgikGyUlvet",
        "colab_type": "text"
      },
      "cell_type": "markdown",
      "source": [
        "Python is a multi-paradigm programming language. Meaning, it supports different programming approach.\n",
        "\n",
        "One of the popular approach to solve a programming problem is by creating objects. This is known as Object-Oriented Programming (OOP).\n",
        "\n",
        "An object has two characteristics:\n",
        "\n",
        "* attributes\n",
        "* behavior\n",
        "\n",
        "Let's take an example: Parrot is an object,\n",
        "\n",
        "* name, age, color are attributes\n",
        "* singing, dancing are behavior\n",
        "\n",
        "The concept of OOP in Python focuses on creating reusable code. This concept is also known as **DRY (Don't Repeat Yourself)**.\n",
        "\n",
        "In Python, the concept of OOP follows some basic principles:\n",
        "\n",
        "* **Inheritance** - A process of using details from a new class without modifying existing class.\n",
        "* **Encapsulation** - Hiding the private details of a class from other objects.\n",
        "* **Polymorphism** - A concept of using common operation in different ways for different data input."
      ]
    },
    {
      "metadata": {
        "id": "AHkT2_bHmKQC",
        "colab_type": "text"
      },
      "cell_type": "markdown",
      "source": [
        "# Class\n",
        "A class is a blueprint for the object.\n",
        "\n",
        "We can think of class as an sketch of a parrot with labels. It contains all the details about the name, colors, size etc. Based on these descriptions, we can study about the parrot. Here, parrot is an object.\n",
        "\n"
      ]
    },
    {
      "metadata": {
        "id": "zNGi68ZYmVjl",
        "colab_type": "code",
        "colab": {}
      },
      "cell_type": "code",
      "source": [
        "# Example for class of parrot\n",
        "class Parrot:\n",
        "    pass"
      ],
      "execution_count": 0,
      "outputs": []
    },
    {
      "metadata": {
        "id": "4no8JjxsmghW",
        "colab_type": "text"
      },
      "cell_type": "markdown",
      "source": [
        "Here, we use `class` keyword to define an empty class `Parrot`. From class, we construct instances. An instance is a specific object created from a particular class.\n",
        "\n",
        "\n",
        "---\n",
        "\n",
        "# Object\n",
        "An object (instance) is an instantiation of a class. When class is defined, only the description for the object is defined. Therefore, no memory or storage is allocated.\n",
        "\n",
        "The example for object of parrot class can be:"
      ]
    },
    {
      "metadata": {
        "id": "PgM1cB4GmXXL",
        "colab_type": "code",
        "colab": {}
      },
      "cell_type": "code",
      "source": [
        "obj = Parrot()"
      ],
      "execution_count": 0,
      "outputs": []
    },
    {
      "metadata": {
        "id": "13aSosSfmrYr",
        "colab_type": "text"
      },
      "cell_type": "markdown",
      "source": [
        "Here, `obj` is object of class `Parrot`.\n",
        "\n",
        "Suppose we have details of parrot. Now, we are going to show how to build the class and objects of parrot."
      ]
    },
    {
      "metadata": {
        "id": "jc-ubUgdmwCm",
        "colab_type": "code",
        "colab": {
          "base_uri": "https://localhost:8080/",
          "height": 85
        },
        "outputId": "29a22c06-0754-45aa-ecae-ecb79cb1dc86"
      },
      "cell_type": "code",
      "source": [
        "# Example for creating Class and Object in Python\n",
        "class Parrot:\n",
        "\n",
        "    # class attribute\n",
        "    species = \"bird\"\n",
        "\n",
        "    # instance attribute\n",
        "    def __init__(self, name, age):\n",
        "        self.name = name\n",
        "        self.age = age\n",
        "\n",
        "# instantiate the Parrot class\n",
        "blu = Parrot(\"Blu\", 10)\n",
        "woo = Parrot(\"Woo\", 15)\n",
        "\n",
        "# access the class attributes\n",
        "print(\"Blu is a {}\".format(blu.__class__.species))\n",
        "print(\"Woo is also a {}\".format(woo.__class__.species))\n",
        "\n",
        "# access the instance attributes\n",
        "print(\"{} is {} years old\".format( blu.name, blu.age))\n",
        "print(\"{} is {} years old\".format( woo.name, woo.age))"
      ],
      "execution_count": 6,
      "outputs": [
        {
          "output_type": "stream",
          "text": [
            "Blu is a bird\n",
            "Woo is also a bird\n",
            "Blu is 10 years old\n",
            "Woo is 15 years old\n"
          ],
          "name": "stdout"
        }
      ]
    },
    {
      "metadata": {
        "id": "J9quE1-JnELx",
        "colab_type": "text"
      },
      "cell_type": "markdown",
      "source": [
        "* In the above program, we create a class with name `Parrot`. Then, we define attributes. The attributes are a characteristic of an object.\n",
        "* Then, we create instances of the `Parrot` class. Here, `blu` and `woo` are references (value) to our new objects.\n",
        "* Then, we access the class attribute using `\\__class __.species`. Class attributes are same for all instances of a class. Similarly, we access the instance attributes using `blu.name` and `blu.age`. However, instance attributes are different for every instance of a class.\n",
        "\n",
        "\n",
        "---\n",
        "\n",
        "# Methods\n",
        "Methods are functions defined inside the body of a class. They are used to define the behaviors of an object."
      ]
    },
    {
      "metadata": {
        "id": "gnr5dl8fmzhj",
        "colab_type": "code",
        "colab": {
          "base_uri": "https://localhost:8080/",
          "height": 51
        },
        "outputId": "f9ae9d31-fdfa-4caf-debf-8b07fbdbd5bf"
      },
      "cell_type": "code",
      "source": [
        "# Example for creating Methods in Python\n",
        "class Parrot:\n",
        "    \n",
        "    # instance attributes\n",
        "    def __init__(self, name, age):\n",
        "        self.name = name\n",
        "        self.age = age\n",
        "    \n",
        "    # instance method\n",
        "    def sing(self, song):\n",
        "        return \"{} sings {}\".format(self.name, song)\n",
        "\n",
        "    def dance(self):\n",
        "        return \"{} is now dancing\".format(self.name)\n",
        "\n",
        "# instantiate the object\n",
        "blu = Parrot(\"Blu\", 10)\n",
        "\n",
        "# call our instance methods\n",
        "print(blu.sing(\"'Happy'\"))\n",
        "print(blu.dance())"
      ],
      "execution_count": 7,
      "outputs": [
        {
          "output_type": "stream",
          "text": [
            "Blu sings 'Happy'\n",
            "Blu is now dancing\n"
          ],
          "name": "stdout"
        }
      ]
    },
    {
      "metadata": {
        "id": "YBjNsWLjnwoC",
        "colab_type": "text"
      },
      "cell_type": "markdown",
      "source": [
        "In the above program, we define two methods i.e `sing()` and `dance()`. These are called instance method because they are called on an instance object i.e `blu`.\n",
        "\n",
        "\n",
        "---\n",
        "\n",
        "# Inheritance\n",
        "Inheritance is a way of creating new class for using details of existing class without modifying it. The newly formed class is a derived class (or child class). Similarly, the existing class is a base class (or parent class).\n"
      ]
    },
    {
      "metadata": {
        "id": "JH49iVTvntvi",
        "colab_type": "code",
        "colab": {
          "base_uri": "https://localhost:8080/",
          "height": 102
        },
        "outputId": "6f07a393-5d26-4a98-c45d-7f639d4e8e16"
      },
      "cell_type": "code",
      "source": [
        "# Example for using Inheritance in Python\n",
        "# parent class\n",
        "class Bird:\n",
        "    \n",
        "    def __init__(self):\n",
        "        print(\"Bird is ready\")\n",
        "\n",
        "    def whoisThis(self):\n",
        "        print(\"Bird\")\n",
        "\n",
        "    def swim(self):\n",
        "        print(\"Swim faster\")\n",
        "\n",
        "# child class\n",
        "class Penguin(Bird):\n",
        "\n",
        "    def __init__(self):\n",
        "        # call super() function\n",
        "        super().__init__()\n",
        "        print(\"Penguin is ready\")\n",
        "\n",
        "    def whoisThis(self):\n",
        "        print(\"Penguin\")\n",
        "\n",
        "    def run(self):\n",
        "        print(\"Run faster\")\n",
        "\n",
        "peggy = Penguin()\n",
        "peggy.whoisThis()\n",
        "peggy.swim()\n",
        "peggy.run()"
      ],
      "execution_count": 8,
      "outputs": [
        {
          "output_type": "stream",
          "text": [
            "Bird is ready\n",
            "Penguin is ready\n",
            "Penguin\n",
            "Swim faster\n",
            "Run faster\n"
          ],
          "name": "stdout"
        }
      ]
    },
    {
      "metadata": {
        "id": "B82XsgBroKU1",
        "colab_type": "text"
      },
      "cell_type": "markdown",
      "source": [
        "In the above program, we created two classes i.e. `Bird` (parent class) and `Penguin` (child class). The child class inherits the functions of parent class. We can see this from `swim()`method. Again, the child class modified the behavior of parent class. We can see this from whoisThis() method. Furthermore, we extend the functions of parent class, by creating a new `run()` method.\n",
        "\n",
        "Additionally, we use `super()` function before `__init__()` method. This is because we want to pull the content of `__init__()` method from the parent class into the child class.\n",
        "\n",
        "\n",
        "---\n",
        "\n",
        "# Encapsulation\n",
        "Using OOP in Python, we can restrict access to methods and variables. This prevent data from direct modification which is called encapsulation. In Python, we denote private attribute using underscore as prefix i.e single “ _ “ or double “ __“."
      ]
    },
    {
      "metadata": {
        "id": "l6L9rPTVoG2d",
        "colab_type": "code",
        "colab": {
          "base_uri": "https://localhost:8080/",
          "height": 68
        },
        "outputId": "732ab08c-d297-4130-ad9a-5d822ca3a3a0"
      },
      "cell_type": "code",
      "source": [
        "# Example for Data Encapsulation in Python\n",
        "class Computer:\n",
        "\n",
        "    def __init__(self):\n",
        "        self.__maxprice = 900\n",
        "\n",
        "    def sell(self):\n",
        "        print(\"Selling Price: {}\".format(self.__maxprice))\n",
        "\n",
        "    def setMaxPrice(self, price):\n",
        "        self.__maxprice = price\n",
        "\n",
        "c = Computer()\n",
        "c.sell()\n",
        "\n",
        "# change the price\n",
        "c.__maxprice = 1000\n",
        "c.sell()\n",
        "\n",
        "# using setter function\n",
        "c.setMaxPrice(1000)\n",
        "c.sell()"
      ],
      "execution_count": 9,
      "outputs": [
        {
          "output_type": "stream",
          "text": [
            "Selling Price: 900\n",
            "Selling Price: 900\n",
            "Selling Price: 1000\n"
          ],
          "name": "stdout"
        }
      ]
    },
    {
      "metadata": {
        "id": "7Hb7ceqBooc2",
        "colab_type": "text"
      },
      "cell_type": "markdown",
      "source": [
        "In the above program, we defined a class `Computer`. We use `__init__()` method to store the maximum selling price of computer. We tried to modify the price. However, we can’t change it because Python treats the `__maxprice` as private attributes. To change the value, we used a setter function i.e `setMaxPrice()` which takes price as parameter.\n",
        "\n",
        "\n",
        "---\n",
        "\n",
        "# Polymorphism\n",
        "Polymorphism is an ability (in OOP) to use common interface for multiple form (data types).\n",
        "\n",
        "Suppose, we need to color a shape, there are multiple shape option (rectangle, square, circle). However we could use same method to color any shape. This concept is called Polymorphism."
      ]
    },
    {
      "metadata": {
        "id": "eJvBHa7pollW",
        "colab_type": "code",
        "colab": {
          "base_uri": "https://localhost:8080/",
          "height": 51
        },
        "outputId": "b24ad85a-50cc-4840-cd77-410979350992"
      },
      "cell_type": "code",
      "source": [
        "# Example for using Polymorphism in Python\n",
        "class Parrot:\n",
        "\n",
        "    def fly(self):\n",
        "        print(\"Parrot can fly\")\n",
        "    \n",
        "    def swim(self):\n",
        "        print(\"Parrot can't swim\")\n",
        "\n",
        "class Penguin:\n",
        "\n",
        "    def fly(self):\n",
        "        print(\"Penguin can't fly\")\n",
        "    \n",
        "    def swim(self):\n",
        "        print(\"Penguin can swim\")\n",
        "\n",
        "# common interface\n",
        "def flying_test(bird):\n",
        "    bird.fly()\n",
        "\n",
        "#instantiate objects\n",
        "blu = Parrot()\n",
        "peggy = Penguin()\n",
        "\n",
        "# passing the object\n",
        "flying_test(blu)\n",
        "flying_test(peggy)"
      ],
      "execution_count": 10,
      "outputs": [
        {
          "output_type": "stream",
          "text": [
            "Parrot can fly\n",
            "Penguin can't fly\n"
          ],
          "name": "stdout"
        }
      ]
    },
    {
      "metadata": {
        "id": "mPXHZILypHvk",
        "colab_type": "text"
      },
      "cell_type": "markdown",
      "source": [
        "In the above program, we defined two classes `Parrot` and `Penguin`. Each of them have common method `fly()` method. However, their functions are different. To allow polymorphism, we created common interface i.e `flying_test()` function that can take any object. Then, we passed the objects `blu` and `peggy` in the `flying_test()` function, it ran effectively.\n",
        "\n",
        "\n",
        "---\n",
        "\n",
        "# Abstract Classes\n",
        "Abstract classes are classes that contain one or more abstract methods. An abstract method is a method that is declared, but contains no implementation. Abstract classes may not be instantiated, and require subclasses to provide implementations for the abstract methods. Subclasses of an abstract class in Python are not required to implement abstract methods of the parent class.\n",
        "\n",
        "Python on its own doesn't provide abstract classes. Yet, Python comes with a module which provides the infrastructure for defining **Abstract Base Classes (ABCs)**. This module is called - for obvious reasons - `abc`.\n",
        "\n"
      ]
    },
    {
      "metadata": {
        "id": "SF_2bMIspEYj",
        "colab_type": "code",
        "colab": {}
      },
      "cell_type": "code",
      "source": [
        "# Example to use abc module and define an abstract base class\n",
        "from abc import ABC, abstractmethod\n",
        " \n",
        "class AbstractClassExample(ABC):\n",
        " \n",
        "    def __init__(self, value):\n",
        "        self.value = value\n",
        "        super().__init__()\n",
        "    \n",
        "    @abstractmethod\n",
        "    def do_something(self):\n",
        "        pass"
      ],
      "execution_count": 0,
      "outputs": []
    },
    {
      "metadata": {
        "id": "6I54_VyXyXIi",
        "colab_type": "text"
      },
      "cell_type": "markdown",
      "source": [
        "We will define now a subclass using the previously defined abstract class. You will notice that we haven't implemented the do_something method, even though we are required to implement it, because this method is decorated as an abstract method with the decorator \"`abstractmethod`\". We get an exception that `DoAdd42` can't be instantiated:"
      ]
    },
    {
      "metadata": {
        "id": "DRRMUHeeyRIM",
        "colab_type": "code",
        "colab": {
          "base_uri": "https://localhost:8080/",
          "height": 197
        },
        "outputId": "a4e1439a-6a17-438e-e4ce-8c683338a96b"
      },
      "cell_type": "code",
      "source": [
        "class DoAdd42(AbstractClassExample):\n",
        "    pass\n",
        "x = DoAdd42(4) ## throws error (TypeError: Can't instantiate abstract class DoAdd42 with abstract methods do_something)"
      ],
      "execution_count": 12,
      "outputs": [
        {
          "output_type": "error",
          "ename": "TypeError",
          "evalue": "ignored",
          "traceback": [
            "\u001b[0;31m---------------------------------------------------------------------------\u001b[0m",
            "\u001b[0;31mTypeError\u001b[0m                                 Traceback (most recent call last)",
            "\u001b[0;32m<ipython-input-12-06709d9a6f80>\u001b[0m in \u001b[0;36m<module>\u001b[0;34m()\u001b[0m\n\u001b[1;32m      1\u001b[0m \u001b[0;32mclass\u001b[0m \u001b[0mDoAdd42\u001b[0m\u001b[0;34m(\u001b[0m\u001b[0mAbstractClassExample\u001b[0m\u001b[0;34m)\u001b[0m\u001b[0;34m:\u001b[0m\u001b[0;34m\u001b[0m\u001b[0m\n\u001b[1;32m      2\u001b[0m     \u001b[0;32mpass\u001b[0m\u001b[0;34m\u001b[0m\u001b[0m\n\u001b[0;32m----> 3\u001b[0;31m \u001b[0mx\u001b[0m \u001b[0;34m=\u001b[0m \u001b[0mDoAdd42\u001b[0m\u001b[0;34m(\u001b[0m\u001b[0;36m4\u001b[0m\u001b[0;34m)\u001b[0m\u001b[0;34m\u001b[0m\u001b[0m\n\u001b[0m",
            "\u001b[0;31mTypeError\u001b[0m: Can't instantiate abstract class DoAdd42 with abstract methods do_something"
          ]
        }
      ]
    },
    {
      "metadata": {
        "id": "NH6M-7j2yill",
        "colab_type": "text"
      },
      "cell_type": "markdown",
      "source": [
        "We will do it the correct way in the following example, in which we define two classes inheriting from our abstract class:"
      ]
    },
    {
      "metadata": {
        "id": "LXrrTl00ybKF",
        "colab_type": "code",
        "colab": {
          "base_uri": "https://localhost:8080/",
          "height": 51
        },
        "outputId": "6b3071e8-f655-415c-80af-6754d584a16b"
      },
      "cell_type": "code",
      "source": [
        "class DoAdd42(AbstractClassExample):\n",
        "    def do_something(self):\n",
        "        return self.value + 42\n",
        "    \n",
        "class DoMul42(AbstractClassExample):\n",
        "   \n",
        "    def do_something(self):\n",
        "        return self.value * 42\n",
        "    \n",
        "x = DoAdd42(10)\n",
        "y = DoMul42(10)\n",
        "print(x.do_something()) ## 52\n",
        "print(y.do_something()) ## 420"
      ],
      "execution_count": 13,
      "outputs": [
        {
          "output_type": "stream",
          "text": [
            "52\n",
            "420\n"
          ],
          "name": "stdout"
        }
      ]
    },
    {
      "metadata": {
        "id": "eiOrvNNVyxlL",
        "colab_type": "text"
      },
      "cell_type": "markdown",
      "source": [
        "A class that is derived from an abstract class cannot be instantiated unless all of its abstract methods are overridden.\n",
        "\n",
        "You may think that abstract methods can't be implemented in the abstract base class. This impression is wrong: An abstract method can have an implementation in the abstract class! Even if they are implemented, designers of subclasses will be forced to override the implementation. Like in other cases of \"normal\" inheritance, the abstract method can be invoked with `super()` call mechanism. This makes it possible to provide some basic functionality in the abstract method, which can be enriched by the subclass implementation."
      ]
    },
    {
      "metadata": {
        "id": "jmc7TDRryrZt",
        "colab_type": "code",
        "colab": {
          "base_uri": "https://localhost:8080/",
          "height": 51
        },
        "outputId": "1258330c-88eb-4b6f-a6d6-9c33239cea59"
      },
      "cell_type": "code",
      "source": [
        "from abc import ABC, abstractmethod\n",
        " \n",
        "class AbstractClassExample(ABC):\n",
        "    \n",
        "    @abstractmethod\n",
        "    def do_something(self):\n",
        "        print(\"Some implementation!\")\n",
        "        \n",
        "class AnotherSubclass(AbstractClassExample):\n",
        "    def do_something(self):\n",
        "        super().do_something()\n",
        "        print(\"The enrichment from AnotherSubclass\")\n",
        "        \n",
        "x = AnotherSubclass()\n",
        "x.do_something()"
      ],
      "execution_count": 14,
      "outputs": [
        {
          "output_type": "stream",
          "text": [
            "Some implementation!\n",
            "The enrichment from AnotherSubclass\n"
          ],
          "name": "stdout"
        }
      ]
    },
    {
      "metadata": {
        "id": "PMyXuO401qBQ",
        "colab_type": "text"
      },
      "cell_type": "markdown",
      "source": [
        "# Assignment\n",
        "\n",
        "###  Design and Implement a parking lot monitoring system using OOPs concepts in Python.\n",
        "\n",
        "* Imagine an parking lot with 20 parking spaces, where each parking space has an ID which is a natural number, starting with 1, 2, 3, ….upto 20. Parking space '1' is the one closest to the entrance.\n",
        "* The parking space can be in three sizes: small(10 parking spaces), medium(7 parking spaces) and large slots(3 parking spaces).\n",
        "* Three types of vehicles are allowed to be parked in a parking space: motorcycle(small), car(medium) and bus(large) \n",
        "  * A motorcycle can be parked in any small, medium or large parking spaces.\n",
        "  * A car can be parked in either a medium slot or a large parking spaces.\n",
        "  * A bus can be parked only in a large parking space.\n",
        "* When a user enters the parking lot, vehicle type and vehicle ID are noted and fed as input to our system  \n",
        "* Our system should assign the vehicle to the nearest parking space available(if any parking space is available) \n",
        "* User should be given a printed ticket with the assigned parking spot ID and his vehicle ID\n",
        "\n",
        "### Important Note: \n",
        "\n",
        "* Must make use of Python OOPs concepts like Classes, Objects, and others learnt in this material wherever needed."
      ]
    }
  ]
}